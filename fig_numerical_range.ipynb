{
 "cells": [
  {
   "cell_type": "code",
   "execution_count": 1,
   "id": "1fc568ee",
   "metadata": {
    "execution": {
     "iopub.execute_input": "2023-03-02T17:06:40.086888Z",
     "iopub.status.busy": "2023-03-02T17:06:40.086537Z",
     "iopub.status.idle": "2023-03-02T17:06:40.690206Z",
     "shell.execute_reply": "2023-03-02T17:06:40.689738Z"
    }
   },
   "outputs": [],
   "source": [
    "import numpy as np\n",
    "import scipy as sp\n",
    "from scipy import sparse\n",
    "from scipy.sparse import linalg\n",
    "\n",
    "import matplotlib.pyplot as plt\n",
    "from IPython.display import clear_output\n"
   ]
  },
  {
   "cell_type": "code",
   "execution_count": 2,
   "id": "2599c00d",
   "metadata": {
    "execution": {
     "iopub.execute_input": "2023-03-02T17:06:40.692567Z",
     "iopub.status.busy": "2023-03-02T17:06:40.692447Z",
     "iopub.status.idle": "2023-03-02T17:06:40.695088Z",
     "shell.execute_reply": "2023-03-02T17:06:40.694655Z"
    }
   },
   "outputs": [],
   "source": [
    "plt.rcParams['text.latex.preamble'] = r'\\renewcommand{\\vec}{\\mathbf}'\n",
    "plt.rc('text', usetex=True)\n",
    "plt.rc('font', family='serif')"
   ]
  },
  {
   "cell_type": "code",
   "execution_count": 3,
   "id": "e5ad35bb",
   "metadata": {
    "execution": {
     "iopub.execute_input": "2023-03-02T17:06:40.696834Z",
     "iopub.status.busy": "2023-03-02T17:06:40.696714Z",
     "iopub.status.idle": "2023-03-02T17:06:40.733559Z",
     "shell.execute_reply": "2023-03-02T17:06:40.733205Z"
    }
   },
   "outputs": [],
   "source": [
    "def get_boundary(maxes,thetas):\n",
    "    K = len(thetas)\n",
    "    points = np.zeros(k+1,dtype='complex_')\n",
    "    for j in range(len(thetas)):\n",
    "        d1 = maxes[j]\n",
    "        d2 = maxes[(j+1)%k]\n",
    "        t = thetas[(j+1)%k]-thetas[j]\n",
    "        points[j] = np.exp(-thetas[j]*1j)*( d1 - (-d1/np.tan(t)+d2/np.sin(t))*1j )\n",
    "    points[-1] = points[0]\n",
    "    return points\n",
    "\n",
    "def euclidian(A,theta):\n",
    "    H = (np.exp(theta*1j)*A + np.conj(np.exp(theta*1j)*A).T)/2\n",
    "    return np.linalg.eigvalsh(H)[-1]\n",
    "v_euclidian = np.vectorize(euclidian,excluded=['A'])"
   ]
  },
  {
   "cell_type": "code",
   "execution_count": 4,
   "id": "fce8ef2a",
   "metadata": {
    "execution": {
     "iopub.execute_input": "2023-03-02T17:06:40.735624Z",
     "iopub.status.busy": "2023-03-02T17:06:40.735361Z",
     "iopub.status.idle": "2023-03-02T17:06:43.294656Z",
     "shell.execute_reply": "2023-03-02T17:06:43.294244Z"
    }
   },
   "outputs": [],
   "source": [
    "np.random.seed(0)\n",
    "\n",
    "Ns = [100,500]\n",
    "\n",
    "k=100\n",
    "euclidian_points = np.zeros((len(Ns),k+1),dtype='complex')\n",
    "λ = []\n",
    "\n",
    "for l,N in enumerate(Ns):\n",
    "    \n",
    "    A = np.random.randn(N,N)+1j*np.random.randn(N,N)\n",
    "    A /= np.sqrt(2*N)\n",
    "\n",
    "    thetas = np.linspace(0,2*np.pi,k,endpoint=False)\n",
    "    λ.append(np.linalg.eigvals(A))\n",
    "\n",
    "    euclidian_maxes = v_euclidian(A=A,theta=thetas)\n",
    "    euclidian_points[l] = get_boundary(euclidian_maxes,thetas)"
   ]
  },
  {
   "cell_type": "code",
   "execution_count": 5,
   "id": "10c675ae",
   "metadata": {
    "execution": {
     "iopub.execute_input": "2023-03-02T17:06:43.297820Z",
     "iopub.status.busy": "2023-03-02T17:06:43.297304Z",
     "iopub.status.idle": "2023-03-02T17:06:43.635965Z",
     "shell.execute_reply": "2023-03-02T17:06:43.635501Z"
    }
   },
   "outputs": [
    {
     "data": {
      "image/png": "[encoded data removed]",
      "text/plain": [
       "<Figure size 432x216 with 2 Axes>"
      ]
     },
     "metadata": {
      "needs_background": "light"
     },
     "output_type": "display_data"
    }
   ],
   "source": [
    "fig,axs = plt.subplots(1,len(Ns),figsize=(6,3),sharey=True)\n",
    "\n",
    "\n",
    "for l,N in enumerate(Ns):\n",
    "    \n",
    "    axs[l].plot(np.real(euclidian_points[l]),np.imag(euclidian_points[l]),color='k')\n",
    "    axs[l].plot(np.real(λ[l]),np.imag(λ[l]),color='k',ls='None',marker='.',ms=3)\n",
    "    \n",
    "    circle = plt.Circle((0, 0), np.sqrt(2),fill=False,color='k',ls=':')\n",
    "    axs[l].add_patch(circle)\n",
    "    \n",
    "    axs[l].set_aspect('equal')\n",
    "    \n",
    "    axs[l].set_title(f'$N={N}$')\n",
    "\n",
    "plt.savefig('imgs/numerical_range.pdf')"
   ]
  },
  {
   "cell_type": "code",
   "execution_count": null,
   "id": "558da076",
   "metadata": {},
   "outputs": [],
   "source": []
  }
 ],
 "metadata": {
  "kernelspec": {
   "display_name": "Python 3 (ipykernel)",
   "language": "python",
   "name": "python3"
  },
  "language_info": {
   "codemirror_mode": {
    "name": "ipython",
    "version": 3
   },
   "file_extension": ".py",
   "mimetype": "text/x-python",
   "name": "python",
   "nbconvert_exporter": "python",
   "pygments_lexer": "ipython3",
   "version": "3.10.9"
  }
 },
 "nbformat": 4,
 "nbformat_minor": 5
}
