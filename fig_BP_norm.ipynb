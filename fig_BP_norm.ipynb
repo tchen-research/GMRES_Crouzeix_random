{
 "cells": [
  {
   "cell_type": "code",
   "execution_count": 1,
   "id": "7725cd3c",
   "metadata": {
    "execution": {
     "iopub.execute_input": "2023-03-02T17:01:13.951809Z",
     "iopub.status.busy": "2023-03-02T17:01:13.951437Z",
     "iopub.status.idle": "2023-03-02T17:01:14.552513Z",
     "shell.execute_reply": "2023-03-02T17:01:14.551905Z"
    }
   },
   "outputs": [],
   "source": [
    "import numpy as np\n",
    "import scipy as sp\n",
    "from scipy import sparse\n",
    "from scipy.sparse import linalg\n",
    "\n",
    "import matplotlib.pyplot as plt\n",
    "from IPython.display import clear_output\n"
   ]
  },
  {
   "cell_type": "code",
   "execution_count": 2,
   "id": "39dc5c0b",
   "metadata": {
    "execution": {
     "iopub.execute_input": "2023-03-02T17:01:14.554834Z",
     "iopub.status.busy": "2023-03-02T17:01:14.554716Z",
     "iopub.status.idle": "2023-03-02T17:01:14.557345Z",
     "shell.execute_reply": "2023-03-02T17:01:14.557039Z"
    }
   },
   "outputs": [],
   "source": [
    "plt.rcParams['text.latex.preamble'] = r'\\renewcommand{\\vec}{\\mathbf}'\n",
    "plt.rc('text', usetex=True)\n",
    "plt.rc('font', family='serif')"
   ]
  },
  {
   "cell_type": "code",
   "execution_count": 3,
   "id": "f8f5c3f9",
   "metadata": {
    "execution": {
     "iopub.execute_input": "2023-03-02T17:01:14.558973Z",
     "iopub.status.busy": "2023-03-02T17:01:14.558862Z",
     "iopub.status.idle": "2023-03-02T17:01:14.561527Z",
     "shell.execute_reply": "2023-03-02T17:01:14.561134Z"
    }
   },
   "outputs": [],
   "source": [
    "ϕ = lambda x: x/np.sqrt(2)\n",
    "B = lambda x,α: (x-α)/(1-α*x)"
   ]
  },
  {
   "cell_type": "code",
   "execution_count": 4,
   "id": "0b5446ec",
   "metadata": {
    "execution": {
     "iopub.execute_input": "2023-03-02T17:01:14.563187Z",
     "iopub.status.busy": "2023-03-02T17:01:14.562904Z",
     "iopub.status.idle": "2023-03-02T17:01:14.565487Z",
     "shell.execute_reply": "2023-03-02T17:01:14.565171Z"
    }
   },
   "outputs": [],
   "source": [
    "np.random.seed(0)\n",
    "\n",
    "Ns = [100,500,2000]\n",
    "\n",
    "n_trials = 10\n",
    "n_pts = 20\n",
    "αs = np.linspace(0,1,n_pts)\n"
   ]
  },
  {
   "cell_type": "code",
   "execution_count": 5,
   "id": "a3aa095e",
   "metadata": {
    "execution": {
     "iopub.execute_input": "2023-03-02T17:01:14.567131Z",
     "iopub.status.busy": "2023-03-02T17:01:14.566996Z",
     "iopub.status.idle": "2023-03-02T17:06:25.637721Z",
     "shell.execute_reply": "2023-03-02T17:06:25.637248Z"
    }
   },
   "outputs": [
    {
     "name": "stdout",
     "output_type": "stream",
     "text": [
      "2000 9 19\n"
     ]
    }
   ],
   "source": [
    "BPnorm = np.zeros((len(Ns),n_trials,n_pts))\n",
    "for l,N in enumerate(Ns):\n",
    "    for i in range(n_trials):\n",
    "\n",
    "        G = np.random.randn(N,N)+1j*np.random.randn(N,N)\n",
    "        G /= np.sqrt(2*N)\n",
    "        \n",
    "        Λ,V = np.linalg.eig(G)\n",
    "        Vinv = np.linalg.inv(V)\n",
    "        \n",
    "        for j,α in enumerate(αs):\n",
    "            clear_output(wait=True)\n",
    "            print(N,i,j)\n",
    "            \n",
    "            u,s,v=sp.sparse.linalg.svds(V@np.diag(B(ϕ(Λ),α))@Vinv,k=1)\n",
    "            BPnorm[l,i,j] = s"
   ]
  },
  {
   "cell_type": "code",
   "execution_count": 6,
   "id": "ff7c4478-e6d2-4722-9d93-ca129902ca2e",
   "metadata": {
    "execution": {
     "iopub.execute_input": "2023-03-02T17:06:25.640710Z",
     "iopub.status.busy": "2023-03-02T17:06:25.640517Z",
     "iopub.status.idle": "2023-03-02T17:06:25.643713Z",
     "shell.execute_reply": "2023-03-02T17:06:25.643350Z"
    }
   },
   "outputs": [],
   "source": [
    "np.save('BPnorm',BPnorm)\n",
    "BPnorm = np.load('BPnorm.npy')"
   ]
  },
  {
   "cell_type": "code",
   "execution_count": 7,
   "id": "c15d2c05",
   "metadata": {
    "execution": {
     "iopub.execute_input": "2023-03-02T17:06:25.645570Z",
     "iopub.status.busy": "2023-03-02T17:06:25.645417Z",
     "iopub.status.idle": "2023-03-02T17:06:26.195483Z",
     "shell.execute_reply": "2023-03-02T17:06:26.195083Z"
    }
   },
   "outputs": [
    {
     "data": {
      "image/png": "[encoded data removed]",
      "text/plain": [
       "<Figure size 432x216 with 3 Axes>"
      ]
     },
     "metadata": {
      "needs_background": "light"
     },
     "output_type": "display_data"
    }
   ],
   "source": [
    "fig,axs = plt.subplots(1,len(Ns),figsize=(6,3),sharey=True,sharex=True)\n",
    "fig.subplots_adjust(wspace=0.1)\n",
    "\n",
    "for l,N in enumerate(Ns):\n",
    "\n",
    "    for i in range(n_trials):\n",
    "        axs[l].plot(αs,BPnorm[l,i],color='k',marker='.',alpha=.1)\n",
    "    axs[l].set_xlabel(r'$|\\alpha|$')\n",
    "    axs[l].set_title(f'$N={N}$')\n",
    "\n",
    "    axs[l].axhline(np.sqrt(2),color='k',ls=':')\n",
    "\n",
    "axs[0].set_ylabel('$\\| (B_{\\\\alpha}\\circ \\phi)(\\mathbf{G}_N) \\|$')\n",
    "#axs[0].set_ylabel('$\\| (z\\mathbf{I} - \\mathbf{G}_N)^{-1} \\|$')\n",
    "\n",
    "fig.tight_layout()\n",
    "plt.savefig('imgs/BP_norm.pdf')"
   ]
  }
 ],
 "metadata": {
  "kernelspec": {
   "display_name": "Python 3 (ipykernel)",
   "language": "python",
   "name": "python3"
  },
  "language_info": {
   "codemirror_mode": {
    "name": "ipython",
    "version": 3
   },
   "file_extension": ".py",
   "mimetype": "text/x-python",
   "name": "python",
   "nbconvert_exporter": "python",
   "pygments_lexer": "ipython3",
   "version": "3.10.9"
  }
 },
 "nbformat": 4,
 "nbformat_minor": 5
}
