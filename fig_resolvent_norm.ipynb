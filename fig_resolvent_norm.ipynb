{
 "cells": [
  {
   "cell_type": "code",
   "execution_count": 1,
   "id": "539b7ae7",
   "metadata": {
    "execution": {
     "iopub.execute_input": "2023-03-02T17:06:46.227047Z",
     "iopub.status.busy": "2023-03-02T17:06:46.226740Z",
     "iopub.status.idle": "2023-03-02T17:06:46.829522Z",
     "shell.execute_reply": "2023-03-02T17:06:46.829127Z"
    }
   },
   "outputs": [],
   "source": [
    "import numpy as np\n",
    "import scipy as sp\n",
    "from scipy import sparse\n",
    "from scipy.sparse import linalg\n",
    "\n",
    "import matplotlib.pyplot as plt\n",
    "from IPython.display import clear_output\n"
   ]
  },
  {
   "cell_type": "code",
   "execution_count": 2,
   "id": "c08ddfea",
   "metadata": {
    "execution": {
     "iopub.execute_input": "2023-03-02T17:06:46.831982Z",
     "iopub.status.busy": "2023-03-02T17:06:46.831839Z",
     "iopub.status.idle": "2023-03-02T17:06:46.834432Z",
     "shell.execute_reply": "2023-03-02T17:06:46.834115Z"
    }
   },
   "outputs": [],
   "source": [
    "plt.rcParams['text.latex.preamble'] = r'\\renewcommand{\\vec}{\\mathbf}'\n",
    "plt.rc('text', usetex=True)\n",
    "plt.rc('font', family='serif')"
   ]
  },
  {
   "cell_type": "code",
   "execution_count": 3,
   "id": "419f110e",
   "metadata": {
    "execution": {
     "iopub.execute_input": "2023-03-02T17:06:46.836285Z",
     "iopub.status.busy": "2023-03-02T17:06:46.836039Z",
     "iopub.status.idle": "2023-03-02T17:12:33.600136Z",
     "shell.execute_reply": "2023-03-02T17:12:33.599644Z"
    }
   },
   "outputs": [
    {
     "name": "stdout",
     "output_type": "stream",
     "text": [
      "2000 9 9\n"
     ]
    }
   ],
   "source": [
    "np.random.seed(0)\n",
    "\n",
    "Ns = [100,500,2000]\n",
    "\n",
    "n_trials = 10\n",
    "n_pts = 10\n",
    "zs = 1+np.logspace(np.log10(.1),np.log10(2),n_pts)\n",
    "Rnorm = np.zeros((len(Ns),n_trials,n_pts))\n",
    "\n",
    "for l,N in enumerate(Ns):\n",
    "    for i in range(n_trials):\n",
    "\n",
    "        G = np.random.randn(N,N)+1j*np.random.randn(N,N)\n",
    "        G /= np.sqrt(2*N)\n",
    "\n",
    "        for j,z in enumerate(zs):\n",
    "            clear_output(wait=True)\n",
    "            print(N,i,j)\n",
    "\n",
    "            Rnorm[l,i,j] = 1/sp.sparse.linalg.svds(G-z*np.eye(N),k=1,which='SM')[1]"
   ]
  },
  {
   "cell_type": "code",
   "execution_count": 4,
   "id": "7acfb903",
   "metadata": {
    "execution": {
     "iopub.execute_input": "2023-03-02T17:12:33.602912Z",
     "iopub.status.busy": "2023-03-02T17:12:33.602774Z",
     "iopub.status.idle": "2023-03-02T17:12:33.606321Z",
     "shell.execute_reply": "2023-03-02T17:12:33.605936Z"
    }
   },
   "outputs": [],
   "source": [
    "np.save('Rnorm',Rnorm)\n",
    "Rnorm = np.load('Rnorm.npy')"
   ]
  },
  {
   "cell_type": "code",
   "execution_count": 5,
   "id": "1c295cf6",
   "metadata": {
    "execution": {
     "iopub.execute_input": "2023-03-02T17:12:33.608334Z",
     "iopub.status.busy": "2023-03-02T17:12:33.607985Z",
     "iopub.status.idle": "2023-03-02T17:12:34.643243Z",
     "shell.execute_reply": "2023-03-02T17:12:34.642688Z"
    }
   },
   "outputs": [
    {
     "data": {
      "image/png": "[encoded data removed]",
      "text/plain": [
       "<Figure size 432x216 with 3 Axes>"
      ]
     },
     "metadata": {
      "needs_background": "light"
     },
     "output_type": "display_data"
    }
   ],
   "source": [
    "def em(z):\n",
    "    δ = 1 - np.abs(z)**2\n",
    "    return 1/np.sqrt( (8*δ**2-(9-8*δ)**(3/2)-36*δ + 27)/(8*(1-δ)) )\n",
    "\n",
    "fig,axs = plt.subplots(1,len(Ns),figsize=(6,3),sharey=True,sharex=True)\n",
    "fig.subplots_adjust(wspace=0.1)\n",
    "\n",
    "zz = 1+np.logspace(np.log10(.1),np.log10(2))\n",
    "\n",
    "for l,N in enumerate(Ns):\n",
    "    \n",
    "    axs[l].plot((zz**2-1),em(zz),color='k',ls=':')\n",
    "\n",
    "    for i in range(n_trials):\n",
    "        axs[l].plot((zs**2-1),Rnorm[l,i],color='k',marker='.',alpha=.1)\n",
    "    axs[l].set_xlabel('$|z|^2-1$')\n",
    "    axs[l].set_title(f'$N={N}$')\n",
    "\n",
    "axs[0].set_xscale('log')\n",
    "axs[0].set_xticks([.2,1,8])\n",
    "axs[0].set_xticklabels([.2,1,8])\n",
    "\n",
    "axs[0].set_yscale('log')\n",
    "axs[0].set_yticks([1,10])\n",
    "axs[0].set_yticklabels([1,10])\n",
    "axs[0].set_ylabel('$\\| R(z,\\mathbf{G}_N)\\|$')\n",
    "#axs[0].set_ylabel('$\\| (z\\mathbf{I} - \\mathbf{G}_N)^{-1} \\|$')\n",
    "\n",
    "fig.tight_layout()\n",
    "plt.savefig('imgs/pseudospectra.pdf')"
   ]
  }
 ],
 "metadata": {
  "kernelspec": {
   "display_name": "Python 3 (ipykernel)",
   "language": "python",
   "name": "python3"
  },
  "language_info": {
   "codemirror_mode": {
    "name": "ipython",
    "version": 3
   },
   "file_extension": ".py",
   "mimetype": "text/x-python",
   "name": "python",
   "nbconvert_exporter": "python",
   "pygments_lexer": "ipython3",
   "version": "3.9.12"
  }
 },
 "nbformat": 4,
 "nbformat_minor": 5
}
