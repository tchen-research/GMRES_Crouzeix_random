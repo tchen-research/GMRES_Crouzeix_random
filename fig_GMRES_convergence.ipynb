{
 "cells": [
  {
   "cell_type": "code",
   "execution_count": 1,
   "id": "4ace3392",
   "metadata": {
    "execution": {
     "iopub.execute_input": "2023-03-02T17:06:29.556743Z",
     "iopub.status.busy": "2023-03-02T17:06:29.556382Z",
     "iopub.status.idle": "2023-03-02T17:06:30.233642Z",
     "shell.execute_reply": "2023-03-02T17:06:30.233275Z"
    }
   },
   "outputs": [],
   "source": [
    "import numpy as np\n",
    "import scipy as sp\n",
    "from scipy import sparse,optimize\n",
    "from scipy.sparse import linalg\n",
    "\n",
    "import matplotlib.pyplot as plt"
   ]
  },
  {
   "cell_type": "code",
   "execution_count": 2,
   "id": "cda8090c",
   "metadata": {
    "execution": {
     "iopub.execute_input": "2023-03-02T17:06:30.235842Z",
     "iopub.status.busy": "2023-03-02T17:06:30.235719Z",
     "iopub.status.idle": "2023-03-02T17:06:30.238519Z",
     "shell.execute_reply": "2023-03-02T17:06:30.238209Z"
    }
   },
   "outputs": [],
   "source": [
    "plt.rcParams['text.latex.preamble'] = r'\\renewcommand{\\vec}{\\mathbf}'\n",
    "plt.rc('text', usetex=True)\n",
    "plt.rc('font', family='serif')"
   ]
  },
  {
   "cell_type": "code",
   "execution_count": 3,
   "id": "c850d953",
   "metadata": {
    "execution": {
     "iopub.execute_input": "2023-03-02T17:06:30.240276Z",
     "iopub.status.busy": "2023-03-02T17:06:30.240176Z",
     "iopub.status.idle": "2023-03-02T17:06:30.244440Z",
     "shell.execute_reply": "2023-03-02T17:06:30.244127Z"
    }
   },
   "outputs": [],
   "source": [
    "def arnoldi(A,q0,k):\n",
    "\n",
    "    n = len(q0)\n",
    "    \n",
    "    Q = np.zeros((n,k+1),dtype=A.dtype)\n",
    "    H = np.zeros((k+1,k),dtype=A.dtype)\n",
    "\n",
    "    Q[:,0] = q0 / np.sqrt(q0.conj().T@q0)\n",
    "    \n",
    "    for i in range(1,k+1):\n",
    "        qi = A@Q[:,i-1] \n",
    "                \n",
    "        for j in range(i): \n",
    "            H[j,i-1] = (Q[:,j].conj().T@qi)\n",
    "            qi -= H[j,i-1]*Q[:,j]\n",
    "        \n",
    "        H[i,i-1] = np.sqrt(qi.conj().T@qi)\n",
    "        Q[:,i] = qi / H[i,i-1]\n",
    "                \n",
    "    return Q,H"
   ]
  },
  {
   "cell_type": "code",
   "execution_count": 4,
   "id": "db104f3e",
   "metadata": {
    "execution": {
     "iopub.execute_input": "2023-03-02T17:06:30.246290Z",
     "iopub.status.busy": "2023-03-02T17:06:30.246094Z",
     "iopub.status.idle": "2023-03-02T17:06:30.249567Z",
     "shell.execute_reply": "2023-03-02T17:06:30.249252Z"
    }
   },
   "outputs": [],
   "source": [
    "def eval_poly(x,c,H):\n",
    "    \n",
    "    n = len(x)\n",
    "    k = len(c)-1\n",
    "    \n",
    "    W = np.ones((n,k+1),dtype='complex')*np.nan\n",
    "    \n",
    "    W[:,0] = 1.\n",
    "    for i in range(1,k+1):\n",
    "        W[:,i] = x*W[:,i-1]\n",
    "        for j in range(i):\n",
    "             W[:,i] -= H[j,i-1]*W[:,j]\n",
    "                \n",
    "        W[:,i] /= H[i,i-1]\n",
    "\n",
    "    return W@c"
   ]
  },
  {
   "cell_type": "code",
   "execution_count": 5,
   "id": "95fc802e",
   "metadata": {
    "execution": {
     "iopub.execute_input": "2023-03-02T17:06:30.251635Z",
     "iopub.status.busy": "2023-03-02T17:06:30.251335Z",
     "iopub.status.idle": "2023-03-02T17:06:35.088851Z",
     "shell.execute_reply": "2023-03-02T17:06:35.088495Z"
    }
   },
   "outputs": [
    {
     "data": {
      "text/plain": [
       "780.9944467400489"
      ]
     },
     "execution_count": 5,
     "metadata": {},
     "output_type": "execute_result"
    }
   ],
   "source": [
    "np.random.seed(0)\n",
    "\n",
    "N = 1500\n",
    "\n",
    "G = np.random.randn(N,N)+1j*np.random.randn(N,N)\n",
    "G /= np.sqrt(2*N)\n",
    "\n",
    "#G = np.diag(np.linspace(-1,1,N))\n",
    "\n",
    "λ,S = np.linalg.eig(G)\n",
    "U,Σ,VT = np.linalg.svd(S)\n",
    "V = VT.conj().T\n",
    "\n",
    "Σ[0]/Σ[-1]"
   ]
  },
  {
   "cell_type": "code",
   "execution_count": 6,
   "id": "f4a22b09",
   "metadata": {
    "execution": {
     "iopub.execute_input": "2023-03-02T17:06:35.091868Z",
     "iopub.status.busy": "2023-03-02T17:06:35.091690Z",
     "iopub.status.idle": "2023-03-02T17:06:35.109243Z",
     "shell.execute_reply": "2023-03-02T17:06:35.108825Z"
    }
   },
   "outputs": [],
   "source": [
    "σ=1/4\n",
    "A = np.eye(N) + σ*G"
   ]
  },
  {
   "cell_type": "code",
   "execution_count": 7,
   "id": "908a6bc0",
   "metadata": {
    "execution": {
     "iopub.execute_input": "2023-03-02T17:06:35.112067Z",
     "iopub.status.busy": "2023-03-02T17:06:35.111782Z",
     "iopub.status.idle": "2023-03-02T17:06:36.195798Z",
     "shell.execute_reply": "2023-03-02T17:06:36.195305Z"
    }
   },
   "outputs": [],
   "source": [
    "K = 21\n",
    "k = 10\n",
    "\n",
    "p = lambda x: ((x-1)/(0-1))**k\n",
    "X = U@np.diag(Σ)@V.conj().T@np.diag(p(1+σ*λ))@V@np.diag(1/Σ)@U.conj().T\n",
    "b_hard = sp.sparse.linalg.svds(X,k=1)[2].conj().flatten()"
   ]
  },
  {
   "cell_type": "code",
   "execution_count": 8,
   "id": "aa7fe08f",
   "metadata": {
    "execution": {
     "iopub.execute_input": "2023-03-02T17:06:36.198806Z",
     "iopub.status.busy": "2023-03-02T17:06:36.198538Z",
     "iopub.status.idle": "2023-03-02T17:06:36.247737Z",
     "shell.execute_reply": "2023-03-02T17:06:36.247272Z"
    }
   },
   "outputs": [],
   "source": [
    "error = np.full(K,np.nan)\n",
    "\n",
    "b = np.ones(N)/np.sqrt(N)#np.random.randn(N)\n",
    "#b[0] = 1\n",
    "\n",
    "Q,H = arnoldi(A,b,K)\n",
    "\n",
    "for k in range(0,K):\n",
    "    e0 = np.zeros(k+1)\n",
    "    e0[0] = 1\n",
    "    c = np.linalg.lstsq(H[:k+1,:k],np.linalg.norm(b)*e0,rcond=None)[0]\n",
    "    xk = Q[:,:k]@c \n",
    "    error[k] = np.linalg.norm(b-A@xk)"
   ]
  },
  {
   "cell_type": "code",
   "execution_count": 9,
   "id": "15064948",
   "metadata": {
    "execution": {
     "iopub.execute_input": "2023-03-02T17:06:36.250640Z",
     "iopub.status.busy": "2023-03-02T17:06:36.250500Z",
     "iopub.status.idle": "2023-03-02T17:06:36.293525Z",
     "shell.execute_reply": "2023-03-02T17:06:36.293009Z"
    }
   },
   "outputs": [],
   "source": [
    "error_hard = np.full(K,np.nan)\n",
    "\n",
    "b = np.copy(b_hard)\n",
    "Q,H = arnoldi(A,b,K)\n",
    "\n",
    "for k in range(0,K):\n",
    "    e0 = np.zeros(k+1)\n",
    "    e0[0] = 1\n",
    "    c = np.linalg.lstsq(H[:k+1,:k],np.linalg.norm(b)*e0,rcond=None)[0]\n",
    "    xk = Q[:,:k]@c \n",
    "    error_hard[k] = np.linalg.norm(b-A@xk)"
   ]
  },
  {
   "cell_type": "code",
   "execution_count": 10,
   "id": "3cea0d2a",
   "metadata": {
    "execution": {
     "iopub.execute_input": "2023-03-02T17:06:36.296835Z",
     "iopub.status.busy": "2023-03-02T17:06:36.296602Z",
     "iopub.status.idle": "2023-03-02T17:06:36.299834Z",
     "shell.execute_reply": "2023-03-02T17:06:36.299482Z"
    }
   },
   "outputs": [],
   "source": [
    "def em(z):\n",
    "    δ = 1 - np.abs(z)**2\n",
    "    return 1/np.sqrt( (8*δ**2-(9-8*δ)**(3/2)-36*δ + 27)/(8*(1-δ)) )\n"
   ]
  },
  {
   "cell_type": "code",
   "execution_count": 11,
   "id": "2ce3bea8-5abf-47b1-98ff-0d6403f8df69",
   "metadata": {
    "execution": {
     "iopub.execute_input": "2023-03-02T17:06:36.301464Z",
     "iopub.status.busy": "2023-03-02T17:06:36.301355Z",
     "iopub.status.idle": "2023-03-02T17:06:36.328723Z",
     "shell.execute_reply": "2023-03-02T17:06:36.328088Z"
    }
   },
   "outputs": [],
   "source": [
    "ps_bd = np.zeros(K)\n",
    "\n",
    "for k in range(K):\n",
    "    out = sp.optimize.minimize(lambda η: η*em(η)*(σ*η)**(k),1+1e-1);\n",
    "    ps_bd[k] = out['fun']"
   ]
  },
  {
   "cell_type": "code",
   "execution_count": 12,
   "id": "96be873c",
   "metadata": {
    "execution": {
     "iopub.execute_input": "2023-03-02T17:06:36.330708Z",
     "iopub.status.busy": "2023-03-02T17:06:36.330526Z",
     "iopub.status.idle": "2023-03-02T17:06:36.599085Z",
     "shell.execute_reply": "2023-03-02T17:06:36.598594Z"
    }
   },
   "outputs": [
    {
     "data": {
      "image/png": "[encoded data removed]",
      "text/plain": [
       "<Figure size 432x216 with 1 Axes>"
      ]
     },
     "metadata": {
      "needs_background": "light"
     },
     "output_type": "display_data"
    }
   ],
   "source": [
    "fig,axs = plt.subplots(1,1,figsize=(6,3))\n",
    "axs = [axs]\n",
    "\n",
    "axs[0].plot(error,color='k',ls='None',marker='o',ms=3,label='GMRES residual norm (independent $\\mathbf{b}$)')\n",
    "axs[0].plot(error_hard,color='k',ls='None',marker='s',ms=3,label='GMRES residual norm (dependent $\\mathbf{b}$)')\n",
    "\n",
    "axs[0].plot(((1-σ**2)/(1-σ**(2+2*np.arange(K))))**.5*(σ)**np.arange(K),color='k',ls='--',lw='.8',label='predicted rate for independent $\\mathbf{b}$')\n",
    "\n",
    "axs[0].plot(2*(np.sqrt(2)*σ)**np.arange(K),color='k',lw=1,ls='-.',label='field of values bound')\n",
    "\n",
    "for η in [1+10**(-j/4) for j in range(5)]:\n",
    "    axs[0].plot(η*em(η)*(σ*η)**np.arange(K),color='k',lw=1,ls=':',alpha=.2)\n",
    "\n",
    "axs[0].plot(ps_bd,color='k',lw=1,ls=':',label=f'pseudospectrum bound')\n",
    "axs[0].set_yscale('log')\n",
    "#axs[0].legend()\n",
    "\n",
    "axs[0].set_xticks([0,5,10,15,20])\n",
    "axs[0].set_xlabel('iteration $k$')\n",
    "plt.savefig('imgs/GMRES_example.pdf')"
   ]
  },
  {
   "cell_type": "code",
   "execution_count": null,
   "id": "bf7710b5",
   "metadata": {},
   "outputs": [],
   "source": []
  }
 ],
 "metadata": {
  "kernelspec": {
   "display_name": "Python 3 (ipykernel)",
   "language": "python",
   "name": "python3"
  },
  "language_info": {
   "codemirror_mode": {
    "name": "ipython",
    "version": 3
   },
   "file_extension": ".py",
   "mimetype": "text/x-python",
   "name": "python",
   "nbconvert_exporter": "python",
   "pygments_lexer": "ipython3",
   "version": "3.9.12"
  }
 },
 "nbformat": 4,
 "nbformat_minor": 5
}
